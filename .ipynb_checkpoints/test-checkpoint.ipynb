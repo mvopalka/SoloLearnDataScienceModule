{
 "cells": [
  {
   "cell_type": "markdown",
   "metadata": {},
   "source": [
    "# This is code with mask\n",
    "\n",
    "##### rows = řádky ([0]), columns = sloupce ([1])"
   ]
  },
  {
   "cell_type": "code",
   "execution_count": 1,
   "metadata": {
    "pycharm": {
     "name": "#%% code\n"
    }
   },
   "outputs": [
    {
     "name": "stdout",
     "output_type": "stream",
     "text": [
      "[[189  57]\n",
      " [189  57]\n",
      " [183  58]\n",
      " [185  61]\n",
      " [183  51]\n",
      " [183  65]\n",
      " [193  52]\n",
      " [183  49]\n",
      " [183  51]\n",
      " [182  51]\n",
      " [183  55]\n",
      " [182  54]\n",
      " [188  51]\n",
      " [183  43]\n",
      " [193  55]\n",
      " [182  56]\n",
      " [183  61]\n",
      " [185  69]\n",
      " [188  64]\n",
      " [188  46]\n",
      " [182  54]\n",
      " [185  47]\n",
      " [191  70]]\n",
      "23\n"
     ]
    }
   ],
   "source": [
    "import numpy as np\n",
    "\n",
    "heights_arr = np.array(\n",
    "    [189, 170, 189, 163, 183, 171, 185, 168, 173, 183, 173, 173, 175, 178, 183, 193, 178, 173, 174, 183, 183, 180, 168,\n",
    "     180, 170, 178, 182, 180, 183, 178, 182, 188, 175, 179, 183, 193, 182, 183, 177, 185, 188, 188, 182, 185, 191])\n",
    "ages_arr = np.array(\n",
    "    [57, 61, 57, 57, 58, 57, 61, 54, 68, 51, 49, 64, 50, 48, 65, 52, 56, 46, 54, 49, 51, 47, 55, 55, 54, 42, 51, 56, 55,\n",
    "     51, 54, 51, 60, 62, 43, 55, 56, 61, 52, 69, 64, 46, 54, 47, 70]).reshape((-1, 1))\n",
    "\n",
    "heights_arr = heights_arr.reshape((45, 1))\n",
    "height_age_arr = np.hstack((heights_arr, ages_arr))\n",
    "\n",
    "mask = height_age_arr[:, 0] > 180\n",
    "highest_presidents = height_age_arr[mask, ]\n",
    "\n",
    "print(highest_presidents)\n",
    "print(len(highest_presidents))"
   ]
  },
  {
   "cell_type": "markdown",
   "metadata": {},
   "source": [
    "## Using pandas"
   ]
  },
  {
   "cell_type": "code",
   "execution_count": 2,
   "metadata": {
    "pycharm": {
     "name": "#%%\n"
    }
   },
   "outputs": [
    {
     "name": "stdout",
     "output_type": "stream",
     "text": [
      "a    1\n",
      "b    2\n",
      "c    3\n",
      "dtype: int64\n",
      "\n",
      "a    1\n",
      "b    2\n",
      "c    3\n",
      "dtype: int32\n",
      "\n",
      "1\n"
     ]
    }
   ],
   "source": [
    "import pandas as pd\n",
    "import numpy as np\n",
    "\n",
    "print(pd.Series([1, 2, 3], index=['a', 'b', 'c']))\n",
    "print()\n",
    "print(pd.Series(np.array([1, 2, 3]), index=['a', 'b', 'c']))\n",
    "print()\n",
    "series = pd.Series({'a': 1, 'b': 2, 'c': 3})\n",
    "print(series['a'])"
   ]
  },
  {
   "cell_type": "markdown",
   "metadata": {},
   "source": [
    "## DataFrame"
   ]
  },
  {
   "cell_type": "code",
   "execution_count": 3,
   "metadata": {
    "pycharm": {
     "name": "#%%\n"
    }
   },
   "outputs": [
    {
     "name": "stdout",
     "output_type": "stream",
     "text": [
      "         red_wine  white_wine\n",
      "adam            3           5\n",
      "bob             6           0\n",
      "charles         5          10\n",
      "\n",
      "adam        5\n",
      "bob         0\n",
      "charles    10\n",
      "Name: white_wine, dtype: int64\n"
     ]
    }
   ],
   "source": [
    "import pandas as pd\n",
    "\n",
    "wine_dict = {\n",
    "    'red_wine': [3, 6, 5],\n",
    "    'white_wine': [5, 0, 10]\n",
    "}\n",
    "sales = pd.DataFrame(wine_dict, index=[\"adam\", \"bob\", \"charles\"])\n",
    "print(sales)\n",
    "print()\n",
    "print(sales['white_wine'])"
   ]
  },
  {
   "cell_type": "markdown",
   "metadata": {
    "pycharm": {
     "name": "#%% md\n"
    }
   },
   "source": [
    "## Pandas CSV and what to do with it"
   ]
  },
  {
   "cell_type": "code",
   "execution_count": 4,
   "metadata": {
    "pycharm": {
     "name": "#%%\n"
    }
   },
   "outputs": [
    {
     "name": "stdout",
     "output_type": "stream",
     "text": [
      "(45, 4)\n",
      "45\n",
      "180\n",
      "\n",
      "                        order  age  height                  party\n",
      "name                                                             \n",
      "George Washington           1   57     189                   none\n",
      "John Adams                  2   61     170             federalist\n",
      "Thomas Jefferson            3   57     189  democratic-republican\n",
      "James Madison               4   57     163  democratic-republican\n",
      "James Monroe                5   58     183  democratic-republican\n",
      "John Quincy Adams           6   57     171  democratic-republican\n",
      "Andrew Jackson              7   61     185             democratic\n",
      "Martin Van Buren            8   54     168             democratic\n",
      "William Henry Harrison      9   68     173                   whig\n",
      "John Tyler                 10   51     183                   whig\n",
      "James K. Polk              11   49     173             democratic\n",
      "Zachary Taylor             12   64     173                   whig\n",
      "Millard Fillmore           13   50     175                   whig\n",
      "Franklin Pierce            14   48     178             democratic\n",
      "James Buchanan             15   65     183             democratic\n",
      "Abraham Lincoln            16   52     193             republican\n",
      "Andrew Johnson             17   56     178         national union\n",
      "Ulysses S. Grant           18   46     173             republican\n",
      "Rutherford B. Hayes        19   54     174             republican\n",
      "James A. Garfield          20   49     183             republican\n",
      "Chester A. Arthur          21   51     183             republican\n",
      "Grover Cleveland           22   47     180             democratic\n",
      "Benjamin Harrison          23   55     168             republican\n",
      "Grover Cleveland           25   55     180             democratic\n",
      "William McKinley           25   54     170             republican\n",
      "Theodore Roosevelt         26   42     178             republican\n",
      "William Howard Taft        27   51     182             republican\n",
      "Woodrow Wilson             28   56     180             democratic\n",
      "Warren G. Harding          29   55     183             republican\n",
      "Calvin Coolidge            30   51     178             republican\n",
      "Herbert Hoover             31   54     182             republican\n",
      "Franklin D. Roosevelt      32   51     188             democratic\n",
      "Harry S. Truman            33   60     175             democratic\n",
      "Dwight D. Eisenhower       34   62     179             republican\n",
      "John F. Kennedy            35   43     183             democratic\n",
      "Lyndon B. Johnson          36   55     193             democratic\n",
      "Richard Nixon              37   56     182             republican\n",
      "Gerald Ford                38   61     183             republican\n",
      "Jimmy Carter               39   52     177             democratic\n",
      "Ronald Reagan              40   69     185             republican\n",
      "George H. W. Bush          41   64     188             republican\n",
      "Bill Clinton               42   46     188             democratic\n",
      "George W. Bush             43   54     182             republican\n",
      "Barack Obama               44   47     185             democratic\n",
      "Donald J. Trump            45   70     191             republican\n",
      "\n",
      "                   order  age  height       party\n",
      "name                                             \n",
      "George H. W. Bush     41   64     188  republican\n",
      "Bill Clinton          42   46     188  democratic\n",
      "George W. Bush        43   54     182  republican\n",
      "Barack Obama          44   47     185  democratic\n",
      "Donald J. Trump       45   70     191  republican\n",
      "\n",
      "<class 'pandas.core.frame.DataFrame'>\n",
      "Index: 45 entries, George Washington to Donald J. Trump\n",
      "Data columns (total 4 columns):\n",
      " #   Column  Non-Null Count  Dtype \n",
      "---  ------  --------------  ----- \n",
      " 0   order   45 non-null     int64 \n",
      " 1   age     45 non-null     int64 \n",
      " 2   height  45 non-null     int64 \n",
      " 3   party   45 non-null     object\n",
      "dtypes: int64(3), object(1)\n",
      "memory usage: 1.8+ KB\n",
      "None\n",
      "\n",
      "order             16\n",
      "age               52\n",
      "height           193\n",
      "party     republican\n",
      "Name: Abraham Lincoln, dtype: object\n",
      "\n",
      "Index(['order', 'age', 'height', 'party'], dtype='object')\n",
      "\n",
      "                   order  age  height\n",
      "name                                 \n",
      "George Washington      1   57     189\n",
      "John Adams             2   61     170\n",
      "Thomas Jefferson       3   57     189\n",
      "\n",
      "order      23.022222\n",
      "age        55.000000\n",
      "height    180.000000\n",
      "dtype: float64\n",
      "\n",
      "0.00    42.0\n",
      "0.25    51.0\n",
      "0.50    55.0\n",
      "0.75    58.0\n",
      "1.00    70.0\n",
      "Name: age, dtype: float64\n",
      "\n",
      "55.0\n",
      "55.0\n",
      "\n",
      "           order        age      height\n",
      "count  45.000000  45.000000   45.000000\n",
      "mean   23.022222  55.000000  180.000000\n",
      "std    13.136502   6.595453    6.977236\n",
      "min     1.000000  42.000000  163.000000\n",
      "25%    12.000000  51.000000  175.000000\n",
      "50%    23.000000  55.000000  182.000000\n",
      "75%    34.000000  58.000000  183.000000\n",
      "max    45.000000  70.000000  193.000000\n",
      "\n",
      "republican               19\n",
      "democratic               15\n",
      "whig                      4\n",
      "democratic-republican     4\n",
      "federalist                1\n",
      "national union            1\n",
      "none                      1\n",
      "Name: party, dtype: int64\n",
      "\n",
      "count             45\n",
      "unique             7\n",
      "top       republican\n",
      "freq              19\n",
      "Name: party, dtype: object\n"
     ]
    }
   ],
   "source": [
    "import pandas as pd\n",
    "\n",
    "presidents_df = pd.read_csv('https://sololearn.com/uploads/files/president_heights_party.csv', index_col='name')\n",
    "\n",
    "print(presidents_df.shape)\n",
    "print(presidents_df.shape[0])\n",
    "print(presidents_df.size)\n",
    "print()\n",
    "print(presidents_df)\n",
    "print()\n",
    "print(presidents_df.tail())\n",
    "print()\n",
    "print(presidents_df.info())\n",
    "print()\n",
    "print(presidents_df.loc[\"Abraham Lincoln\"])\n",
    "print()\n",
    "print(presidents_df.columns)\n",
    "print()\n",
    "print(presidents_df.loc[:, 'order':'height'].head(3))\n",
    "print()\n",
    "print(presidents_df.mean())\n",
    "print()\n",
    "print(presidents_df['age'].quantile([0, 0.25, 0.5, 0.75, 1]))\n",
    "print()\n",
    "print(presidents_df['age'].mean())\n",
    "print(presidents_df['age'].median())\n",
    "print()\n",
    "print(presidents_df.describe())\n",
    "print()\n",
    "print(presidents_df['party'].value_counts())\n",
    "print()\n",
    "print(presidents_df['party'].describe())"
   ]
  },
  {
   "cell_type": "markdown",
   "metadata": {
    "pycharm": {
     "name": "#%% md\n"
    }
   },
   "source": [
    "## Groupby and Aggregation"
   ]
  },
  {
   "cell_type": "code",
   "execution_count": 5,
   "metadata": {
    "pycharm": {
     "name": "#%%\n"
    }
   },
   "outputs": [
    {
     "name": "stdout",
     "output_type": "stream",
     "text": [
      "                      order                                                  \\\n",
      "                      count       mean        std   min    25%   50%    75%   \n",
      "party                                                                         \n",
      "democratic             15.0  26.066667  12.566774   7.0  14.50  28.0  35.50   \n",
      "democratic-republican   4.0   4.500000   1.290994   3.0   3.75   4.5   5.25   \n",
      "federalist              1.0   2.000000        NaN   2.0   2.00   2.0   2.00   \n",
      "national union          1.0  17.000000        NaN  17.0  17.00  17.0  17.00   \n",
      "none                    1.0   1.000000        NaN   1.0   1.00   1.0   1.00   \n",
      "republican             19.0  29.631579   9.081180  16.0  22.00  29.0  37.50   \n",
      "whig                    4.0  11.000000   1.825742   9.0   9.75  11.0  12.25   \n",
      "\n",
      "                              age             ...              height  \\\n",
      "                        max count       mean  ...    75%   max  count   \n",
      "party                                         ...                       \n",
      "democratic             44.0  15.0  52.600000  ...  55.50  65.0   15.0   \n",
      "democratic-republican   6.0   4.0  57.250000  ...  57.25  58.0    4.0   \n",
      "federalist              2.0   1.0  61.000000  ...  61.00  61.0    1.0   \n",
      "national union         17.0   1.0  56.000000  ...  56.00  56.0    1.0   \n",
      "none                    1.0   1.0  57.000000  ...  57.00  57.0    1.0   \n",
      "republican             45.0  19.0  55.263158  ...  58.50  70.0   19.0   \n",
      "whig                   13.0   4.0  58.250000  ...  65.00  68.0    4.0   \n",
      "\n",
      "                                                                          \\\n",
      "                             mean        std    min    25%    50%    75%   \n",
      "party                                                                      \n",
      "democratic             181.066667   6.430582  168.0  177.5  180.0  185.0   \n",
      "democratic-republican  176.500000  11.704700  163.0  169.0  177.0  184.5   \n",
      "federalist             170.000000        NaN  170.0  170.0  170.0  170.0   \n",
      "national union         178.000000        NaN  178.0  178.0  178.0  178.0   \n",
      "none                   189.000000        NaN  189.0  189.0  189.0  189.0   \n",
      "republican             180.894737   6.471259  168.0  178.0  182.0  183.0   \n",
      "whig                   176.000000   4.760952  173.0  173.0  174.0  177.0   \n",
      "\n",
      "                              \n",
      "                         max  \n",
      "party                         \n",
      "democratic             193.0  \n",
      "democratic-republican  189.0  \n",
      "federalist             170.0  \n",
      "national union         178.0  \n",
      "none                   189.0  \n",
      "republican             193.0  \n",
      "whig                   183.0  \n",
      "\n",
      "[7 rows x 24 columns]\n",
      "\n",
      "                       min  median  max\n",
      "party                                  \n",
      "democratic             168     180  193\n",
      "democratic-republican  163     177  189\n",
      "federalist             170     170  170\n",
      "national union         178     178  178\n",
      "none                   189     189  189\n",
      "republican             168     182  193\n",
      "whig                   173     174  183\n",
      "\n",
      "                      height             age    \n",
      "                      median        mean min max\n",
      "party                                           \n",
      "democratic               180  181.066667  43  65\n",
      "democratic-republican    177  176.500000  57  58\n",
      "federalist               170  170.000000  61  61\n",
      "national union           178  178.000000  56  56\n",
      "none                     189  189.000000  57  57\n",
      "republican               182  180.894737  42  70\n",
      "whig                     174  176.000000  50  68\n"
     ]
    }
   ],
   "source": [
    "import pandas as pd\n",
    "\n",
    "presidents_df = pd.read_csv('https://sololearn.com/uploads/files/president_heights_party.csv', index_col='name')\n",
    "\n",
    "print(presidents_df.groupby('party').describe())\n",
    "print()\n",
    "print(presidents_df.groupby('party')['height'].agg(['min', np.median, max]))\n",
    "print()\n",
    "print(presidents_df.groupby('party').agg({'height': [np.median, np.mean], 'age': [min, max]}))"
   ]
  },
  {
   "cell_type": "markdown",
   "metadata": {},
   "source": [
    "## Matplotlib"
   ]
  },
  {
   "cell_type": "code",
   "execution_count": 6,
   "metadata": {
    "pycharm": {
     "name": "#%%\n"
    }
   },
   "outputs": [
    {
     "data": {
      "text/plain": "<Figure size 432x288 with 1 Axes>",
      "image/png": "[encoded data removed]"
     },
     "metadata": {
      "needs_background": "light"
     },
     "output_type": "display_data"
    }
   ],
   "source": [
    "import matplotlib.pyplot as plt\n",
    "fig = plt.figure()\n",
    "ax = plt.axes()\n",
    "plt.show()"
   ]
  },
  {
   "cell_type": "markdown",
   "metadata": {},
   "source": [
    "### plot sinus"
   ]
  },
  {
   "cell_type": "code",
   "execution_count": 7,
   "metadata": {
    "pycharm": {
     "name": "#%%\n"
    }
   },
   "outputs": [
    {
     "data": {
      "text/plain": "<Figure size 432x288 with 1 Axes>",
      "image/png": "[encoded data removed]"
     },
     "metadata": {
      "needs_background": "light"
     },
     "output_type": "display_data"
    }
   ],
   "source": [
    "import numpy as np\n",
    "x = np.linspace(0,10,1000) # x is a 1000 evenly spaced numbers from 0 to 10\n",
    "y = np.sin(x)\n",
    "import matplotlib.pyplot as plt\n",
    "fig = plt.figure()\n",
    "ax = plt.axes()\n",
    "ax.plot(x, y)\n",
    "plt.show()"
   ]
  },
  {
   "cell_type": "code",
   "execution_count": 7,
   "metadata": {},
   "outputs": [],
   "source": []
  }
 ],
 "metadata": {
  "kernelspec": {
   "display_name": "Python 3",
   "language": "python",
   "name": "python3"
  },
  "language_info": {
   "codemirror_mode": {
    "name": "ipython",
    "version": 3
   },
   "file_extension": ".py",
   "mimetype": "text/x-python",
   "name": "python",
   "nbconvert_exporter": "python",
   "pygments_lexer": "ipython3",
   "version": "3.8.3"
  }
 },
 "nbformat": 4,
 "nbformat_minor": 1
}